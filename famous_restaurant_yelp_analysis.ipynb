{
  "cells": [
    {
      "cell_type": "markdown",
      "metadata": {
        "id": "view-in-github",
        "colab_type": "text"
      },
      "source": [
        "<a href=\"https://colab.research.google.com/github/Jiyun2025/Who-are-you/blob/main/famous_restaurant_yelp_analysis.ipynb\" target=\"_parent\"><img src=\"https://colab.research.google.com/assets/colab-badge.svg\" alt=\"Open In Colab\"/></a>"
      ]
    },
    {
      "cell_type": "code",
      "execution_count": null,
      "metadata": {
        "id": "3MB520KwvSYL"
      },
      "outputs": [],
      "source": []
    },
    {
      "cell_type": "markdown",
      "metadata": {
        "id": "sIYgJmt4vSYL"
      },
      "source": [
        "# Preamble"
      ]
    },
    {
      "cell_type": "code",
      "execution_count": 1,
      "metadata": {
        "id": "MQ-xZTAtvSYO",
        "outputId": "f117bf41-cab7-40b7-8378-c23230051b11",
        "colab": {
          "base_uri": "https://localhost:8080/",
          "height": 198
        }
      },
      "outputs": [
        {
          "output_type": "error",
          "ename": "OperationalError",
          "evalue": "no such table: web_logs",
          "traceback": [
            "\u001b[0;31m---------------------------------------------------------------------------\u001b[0m",
            "\u001b[0;31mOperationalError\u001b[0m                          Traceback (most recent call last)",
            "\u001b[0;32m<ipython-input-1-917f86cb8f91>\u001b[0m in \u001b[0;36m<cell line: 10>\u001b[0;34m()\u001b[0m\n\u001b[1;32m      8\u001b[0m \u001b[0;34m\u001b[0m\u001b[0m\n\u001b[1;32m      9\u001b[0m \u001b[0;31m# Count the number of rows\u001b[0m\u001b[0;34m\u001b[0m\u001b[0;34m\u001b[0m\u001b[0m\n\u001b[0;32m---> 10\u001b[0;31m \u001b[0mprint\u001b[0m\u001b[0;34m(\u001b[0m\u001b[0mconn\u001b[0m\u001b[0;34m.\u001b[0m\u001b[0mexecute\u001b[0m\u001b[0;34m(\u001b[0m\u001b[0;34m'SELECT COUNT(*) FROM web_logs'\u001b[0m\u001b[0;34m)\u001b[0m\u001b[0;34m.\u001b[0m\u001b[0mfetchall\u001b[0m\u001b[0;34m(\u001b[0m\u001b[0;34m)\u001b[0m\u001b[0;34m)\u001b[0m\u001b[0;34m\u001b[0m\u001b[0;34m\u001b[0m\u001b[0m\n\u001b[0m\u001b[1;32m     11\u001b[0m \u001b[0mprint\u001b[0m\u001b[0;34m(\u001b[0m\u001b[0mconn\u001b[0m\u001b[0;34m.\u001b[0m\u001b[0mexecute\u001b[0m\u001b[0;34m(\u001b[0m\u001b[0;34m'SELECT COUNT(*) FROM web_logs'\u001b[0m\u001b[0;34m)\u001b[0m\u001b[0;34m.\u001b[0m\u001b[0mfetchone\u001b[0m\u001b[0;34m(\u001b[0m\u001b[0;34m)\u001b[0m\u001b[0;34m)\u001b[0m\u001b[0;34m\u001b[0m\u001b[0;34m\u001b[0m\u001b[0m\n",
            "\u001b[0;31mOperationalError\u001b[0m: no such table: web_logs"
          ]
        }
      ],
      "source": [
        "import pandas as pd\n",
        "\n",
        "# Import sqlite3 for python\n",
        "import sqlite3\n",
        "\n",
        "# Connect to the database. It's in a file called web_requests.db.\n",
        "conn = sqlite3.connect('web_requests.db')\n",
        "\n",
        "# Count the number of rows\n",
        "print(conn.execute('SELECT COUNT(*) FROM web_logs').fetchall())\n",
        "print(conn.execute('SELECT COUNT(*) FROM web_logs').fetchone())"
      ]
    },
    {
      "cell_type": "markdown",
      "source": [
        "## UDF Exploration"
      ],
      "metadata": {
        "id": "fMS-3wkcvotg"
      }
    },
    {
      "cell_type": "code",
      "source": [
        "# define the udf : extract the last part of the URL after the last slash\n",
        "\n",
        "def extract_last_part(url):\n",
        "  return url.split('/')[-1]\n",
        "\n",
        "#Test with the a few examples with print outs\n",
        "print(extract_last_part('/'))\n",
        "\n",
        "#Register the UDF with sqlite3\n",
        "conn.create_function('get_product',1,extract_last_part)"
      ],
      "metadata": {
        "id": "0zl675CjvzdN"
      },
      "execution_count": null,
      "outputs": []
    },
    {
      "cell_type": "code",
      "source": [
        "sql = \"\"\"\n",
        "  SELECT\n",
        "  COUNT(DISTINCT ip_address) AS unique_ips,\n",
        "  get_product(requested_page) AS product\n",
        "\n",
        "  FROM\n",
        "    web_logs\n",
        "\n",
        "  WHERE product<>''\n",
        "\n",
        "  GROUP BY\n",
        "    product\n",
        "  ORDER BY\n",
        "    unique_ips DESC;\n",
        "\n",
        "\"\"\"\n",
        "pd.read_spl(sql,conn)\n"
      ],
      "metadata": {
        "id": "GaC2WsIfwnN2"
      },
      "execution_count": null,
      "outputs": []
    },
    {
      "cell_type": "markdown",
      "source": [],
      "metadata": {
        "id": "8DMC97rcv7aK"
      }
    },
    {
      "cell_type": "markdown",
      "metadata": {
        "id": "H2ZEDM6MvSYQ"
      },
      "source": [
        "# Exploration"
      ]
    },
    {
      "cell_type": "code",
      "execution_count": null,
      "metadata": {
        "id": "9N1XOkR5vSYQ",
        "outputId": "5b0d5906-7bab-43f2-86fe-52f2ba5c41cd"
      },
      "outputs": [
        {
          "name": "stdout",
          "output_type": "stream",
          "text": [
            "Time taken:  0.0054361820220947266\n"
          ]
        }
      ],
      "source": [
        "# Calculate the runtime for the following operation\n",
        "import time\n",
        "start = time.time()\n",
        "pd.DataFrame(conn.execute('SELECT * FROM web_logs LIMIT 1').fetchall())\n",
        "print('Time taken: ', time.time() - start)"
      ]
    },
    {
      "cell_type": "code",
      "execution_count": null,
      "metadata": {
        "id": "PeviHPTWvSYR",
        "outputId": "01ac5eef-32b5-431d-b54a-3bc981c735ca"
      },
      "outputs": [
        {
          "name": "stdout",
          "output_type": "stream",
          "text": [
            "Time taken:  0.0009808540344238281\n"
          ]
        }
      ],
      "source": [
        "# Calculate the runtime for the following operation\n",
        "import time\n",
        "start = time.time()\n",
        "pd.DataFrame(conn.execute('SELECT * FROM web_logs').fetchone()[0:5])\n",
        "print('Time taken: ', time.time() - start)"
      ]
    },
    {
      "cell_type": "code",
      "execution_count": null,
      "metadata": {
        "id": "BDRtl0uAvSYR",
        "outputId": "27f07c4e-f6ff-4b69-ff58-0ee77582fd85"
      },
      "outputs": [
        {
          "data": {
            "text/html": [
              "<div>\n",
              "<style scoped>\n",
              "    .dataframe tbody tr th:only-of-type {\n",
              "        vertical-align: middle;\n",
              "    }\n",
              "\n",
              "    .dataframe tbody tr th {\n",
              "        vertical-align: top;\n",
              "    }\n",
              "\n",
              "    .dataframe thead th {\n",
              "        text-align: right;\n",
              "    }\n",
              "</style>\n",
              "<table border=\"1\" class=\"dataframe\">\n",
              "  <thead>\n",
              "    <tr style=\"text-align: right;\">\n",
              "      <th></th>\n",
              "      <th>ip_address</th>\n",
              "      <th>unix_timestamp</th>\n",
              "      <th>requested_page</th>\n",
              "    </tr>\n",
              "  </thead>\n",
              "  <tbody>\n",
              "  </tbody>\n",
              "</table>\n",
              "</div>"
            ],
            "text/plain": [
              "Empty DataFrame\n",
              "Columns: [ip_address, unix_timestamp, requested_page]\n",
              "Index: []"
            ]
          },
          "execution_count": 5,
          "metadata": {},
          "output_type": "execute_result"
        }
      ],
      "source": [
        "# Get top five rows that correspond to timestamps from 8 days ago\n",
        "import datetime\n",
        "eight_days_ago = datetime.datetime.now() - datetime.timedelta(days=8)\n",
        "# COnvert to unix time\n",
        "eight_days_ago_unix = eight_days_ago.timestamp()\n",
        "\n",
        "ten_days_ago = datetime.datetime.now() - datetime.timedelta(days=10)\n",
        "# COnvert to unix time\n",
        "ten_days_ago_unix = ten_days_ago.timestamp()\n",
        "\n",
        "# DONT DO THE FOLLOWING\n",
        "# pd.DataFrame(conn.execute(f'SELECT * FROM web_logs WHERE unix_timestamp > {eight_days_ago_unix} LIMIT 5').fetchall())\n",
        "\n",
        "# Get the top 5 rows, using pandas read_sql statement\n",
        "pd.read_sql('SELECT * FROM web_logs WHERE unix_timestamp < ? AND unix_timestamp > ? LIMIT 5', conn, params=(eight_days_ago_unix, ten_days_ago_unix))\n"
      ]
    },
    {
      "cell_type": "code",
      "execution_count": null,
      "metadata": {
        "id": "FOKijqzzvSYS"
      },
      "outputs": [],
      "source": []
    },
    {
      "cell_type": "code",
      "execution_count": null,
      "metadata": {
        "id": "tvYuD4gtvSYS",
        "outputId": "df0671ad-5a2c-4715-9bcf-0fea8ab7cf63"
      },
      "outputs": [
        {
          "data": {
            "text/html": [
              "<div>\n",
              "<style scoped>\n",
              "    .dataframe tbody tr th:only-of-type {\n",
              "        vertical-align: middle;\n",
              "    }\n",
              "\n",
              "    .dataframe tbody tr th {\n",
              "        vertical-align: top;\n",
              "    }\n",
              "\n",
              "    .dataframe thead th {\n",
              "        text-align: right;\n",
              "    }\n",
              "</style>\n",
              "<table border=\"1\" class=\"dataframe\">\n",
              "  <thead>\n",
              "    <tr style=\"text-align: right;\">\n",
              "      <th></th>\n",
              "      <th>ip_address</th>\n",
              "      <th>unix_timestamp</th>\n",
              "      <th>requested_page</th>\n",
              "    </tr>\n",
              "  </thead>\n",
              "  <tbody>\n",
              "    <tr>\n",
              "      <th>0</th>\n",
              "      <td>67.21.186.204</td>\n",
              "      <td>1724976113</td>\n",
              "      <td>/backend_api/get_product_name/2102cfe7-117f-4a...</td>\n",
              "    </tr>\n",
              "    <tr>\n",
              "      <th>1</th>\n",
              "      <td>67.21.186.204</td>\n",
              "      <td>1724976114</td>\n",
              "      <td>/backend_api/get_product_name/2102cfe7-117f-4a...</td>\n",
              "    </tr>\n",
              "    <tr>\n",
              "      <th>2</th>\n",
              "      <td>67.21.186.204</td>\n",
              "      <td>1724976114</td>\n",
              "      <td>/backend_api/get_product_name/2102cfe7-117f-4a...</td>\n",
              "    </tr>\n",
              "    <tr>\n",
              "      <th>3</th>\n",
              "      <td>67.21.186.204</td>\n",
              "      <td>1724976115</td>\n",
              "      <td>/backend_api/get_product_name/2102cfe7-117f-4a...</td>\n",
              "    </tr>\n",
              "    <tr>\n",
              "      <th>4</th>\n",
              "      <td>67.21.186.204</td>\n",
              "      <td>1724976115</td>\n",
              "      <td>/backend_api/get_product_name/2102cfe7-117f-4a...</td>\n",
              "    </tr>\n",
              "  </tbody>\n",
              "</table>\n",
              "</div>"
            ],
            "text/plain": [
              "      ip_address  unix_timestamp  \\\n",
              "0  67.21.186.204      1724976113   \n",
              "1  67.21.186.204      1724976114   \n",
              "2  67.21.186.204      1724976114   \n",
              "3  67.21.186.204      1724976115   \n",
              "4  67.21.186.204      1724976115   \n",
              "\n",
              "                                      requested_page  \n",
              "0  /backend_api/get_product_name/2102cfe7-117f-4a...  \n",
              "1  /backend_api/get_product_name/2102cfe7-117f-4a...  \n",
              "2  /backend_api/get_product_name/2102cfe7-117f-4a...  \n",
              "3  /backend_api/get_product_name/2102cfe7-117f-4a...  \n",
              "4  /backend_api/get_product_name/2102cfe7-117f-4a...  "
            ]
          },
          "execution_count": 6,
          "metadata": {},
          "output_type": "execute_result"
        }
      ],
      "source": [
        "# Print out the first 5 rows in a pandas dataframe without the cursor object\n",
        "df = pd.read_sql('SELECT * FROM web_logs LIMIT 5', conn)\n",
        "df"
      ]
    },
    {
      "cell_type": "markdown",
      "metadata": {
        "id": "ilQtPVCqvSYS"
      },
      "source": [
        "# Analysis"
      ]
    },
    {
      "cell_type": "markdown",
      "metadata": {
        "id": "JRO2X0B-vSYS"
      },
      "source": [
        "## Who is visiting"
      ]
    },
    {
      "cell_type": "code",
      "execution_count": null,
      "metadata": {
        "id": "wCT1SUR6vSYT",
        "outputId": "20674bdc-c3e9-4ae5-a348-4053e31bcc29"
      },
      "outputs": [
        {
          "data": {
            "text/plain": [
              "[(3200,)]"
            ]
          },
          "execution_count": 7,
          "metadata": {},
          "output_type": "execute_result"
        }
      ],
      "source": [
        "conn.execute('SELECT COUNT(DISTINCT ip_address) AS unique_visitor_count FROM web_logs;').fetchall()"
      ]
    },
    {
      "cell_type": "code",
      "execution_count": null,
      "metadata": {
        "id": "bluhMbuZvSYT",
        "outputId": "c1fb0ed5-06b0-4a2d-ec0f-eb3142b25915"
      },
      "outputs": [
        {
          "data": {
            "text/html": [
              "<div>\n",
              "<style scoped>\n",
              "    .dataframe tbody tr th:only-of-type {\n",
              "        vertical-align: middle;\n",
              "    }\n",
              "\n",
              "    .dataframe tbody tr th {\n",
              "        vertical-align: top;\n",
              "    }\n",
              "\n",
              "    .dataframe thead th {\n",
              "        text-align: right;\n",
              "    }\n",
              "</style>\n",
              "<table border=\"1\" class=\"dataframe\">\n",
              "  <thead>\n",
              "    <tr style=\"text-align: right;\">\n",
              "      <th></th>\n",
              "      <th>unique_visitor_count</th>\n",
              "    </tr>\n",
              "  </thead>\n",
              "  <tbody>\n",
              "    <tr>\n",
              "      <th>0</th>\n",
              "      <td>3200</td>\n",
              "    </tr>\n",
              "  </tbody>\n",
              "</table>\n",
              "</div>"
            ],
            "text/plain": [
              "   unique_visitor_count\n",
              "0                  3200"
            ]
          },
          "execution_count": 8,
          "metadata": {},
          "output_type": "execute_result"
        }
      ],
      "source": [
        "# SQL query that counts the number of unique IP addresses\n",
        "query = \"\"\"\n",
        "\n",
        "    SELECT COUNT(DISTINCT ip_address) AS unique_visitor_count FROM web_logs;\n",
        "\n",
        "\"\"\"\n",
        "\n",
        "# Output the result of the query as a pandas dataframe\n",
        "pd.read_sql(query, conn)"
      ]
    },
    {
      "cell_type": "markdown",
      "metadata": {
        "id": "oiaxExAnvSYT"
      },
      "source": [
        "## When they are visiting"
      ]
    },
    {
      "cell_type": "code",
      "execution_count": null,
      "metadata": {
        "id": "_mTsu8iavSYT",
        "outputId": "cf5a7361-c609-468e-e7ff-a328da6db081"
      },
      "outputs": [
        {
          "data": {
            "text/html": [
              "<div>\n",
              "<style scoped>\n",
              "    .dataframe tbody tr th:only-of-type {\n",
              "        vertical-align: middle;\n",
              "    }\n",
              "\n",
              "    .dataframe tbody tr th {\n",
              "        vertical-align: top;\n",
              "    }\n",
              "\n",
              "    .dataframe thead th {\n",
              "        text-align: right;\n",
              "    }\n",
              "</style>\n",
              "<table border=\"1\" class=\"dataframe\">\n",
              "  <thead>\n",
              "    <tr style=\"text-align: right;\">\n",
              "      <th></th>\n",
              "      <th>ip_address</th>\n",
              "      <th>unix_timestamp</th>\n",
              "      <th>date</th>\n",
              "      <th>day_of_week</th>\n",
              "    </tr>\n",
              "  </thead>\n",
              "  <tbody>\n",
              "    <tr>\n",
              "      <th>0</th>\n",
              "      <td>130.127.49.251</td>\n",
              "      <td>1724889602</td>\n",
              "      <td>2024-08-29</td>\n",
              "      <td>4</td>\n",
              "    </tr>\n",
              "    <tr>\n",
              "      <th>1</th>\n",
              "      <td>130.127.49.251</td>\n",
              "      <td>1724889603</td>\n",
              "      <td>2024-08-29</td>\n",
              "      <td>4</td>\n",
              "    </tr>\n",
              "    <tr>\n",
              "      <th>2</th>\n",
              "      <td>130.127.49.251</td>\n",
              "      <td>1724889603</td>\n",
              "      <td>2024-08-29</td>\n",
              "      <td>4</td>\n",
              "    </tr>\n",
              "    <tr>\n",
              "      <th>3</th>\n",
              "      <td>130.127.49.251</td>\n",
              "      <td>1724889603</td>\n",
              "      <td>2024-08-29</td>\n",
              "      <td>4</td>\n",
              "    </tr>\n",
              "    <tr>\n",
              "      <th>4</th>\n",
              "      <td>130.127.49.251</td>\n",
              "      <td>1724889608</td>\n",
              "      <td>2024-08-29</td>\n",
              "      <td>4</td>\n",
              "    </tr>\n",
              "    <tr>\n",
              "      <th>...</th>\n",
              "      <td>...</td>\n",
              "      <td>...</td>\n",
              "      <td>...</td>\n",
              "      <td>...</td>\n",
              "    </tr>\n",
              "    <tr>\n",
              "      <th>340147</th>\n",
              "      <td>207.231.111.167</td>\n",
              "      <td>1726097535</td>\n",
              "      <td>2024-09-11</td>\n",
              "      <td>3</td>\n",
              "    </tr>\n",
              "    <tr>\n",
              "      <th>340148</th>\n",
              "      <td>207.231.111.167</td>\n",
              "      <td>1726097625</td>\n",
              "      <td>2024-09-11</td>\n",
              "      <td>3</td>\n",
              "    </tr>\n",
              "    <tr>\n",
              "      <th>340149</th>\n",
              "      <td>66.249.77.162</td>\n",
              "      <td>1726097829</td>\n",
              "      <td>2024-09-11</td>\n",
              "      <td>3</td>\n",
              "    </tr>\n",
              "    <tr>\n",
              "      <th>340150</th>\n",
              "      <td>66.249.77.164</td>\n",
              "      <td>1726097830</td>\n",
              "      <td>2024-09-11</td>\n",
              "      <td>3</td>\n",
              "    </tr>\n",
              "    <tr>\n",
              "      <th>340151</th>\n",
              "      <td>147.185.132.245</td>\n",
              "      <td>1726098360</td>\n",
              "      <td>2024-09-11</td>\n",
              "      <td>3</td>\n",
              "    </tr>\n",
              "  </tbody>\n",
              "</table>\n",
              "<p>340152 rows × 4 columns</p>\n",
              "</div>"
            ],
            "text/plain": [
              "             ip_address  unix_timestamp        date day_of_week\n",
              "0        130.127.49.251      1724889602  2024-08-29           4\n",
              "1        130.127.49.251      1724889603  2024-08-29           4\n",
              "2        130.127.49.251      1724889603  2024-08-29           4\n",
              "3        130.127.49.251      1724889603  2024-08-29           4\n",
              "4        130.127.49.251      1724889608  2024-08-29           4\n",
              "...                 ...             ...         ...         ...\n",
              "340147  207.231.111.167      1726097535  2024-09-11           3\n",
              "340148  207.231.111.167      1726097625  2024-09-11           3\n",
              "340149    66.249.77.162      1726097829  2024-09-11           3\n",
              "340150    66.249.77.164      1726097830  2024-09-11           3\n",
              "340151  147.185.132.245      1726098360  2024-09-11           3\n",
              "\n",
              "[340152 rows x 4 columns]"
            ]
          },
          "execution_count": 9,
          "metadata": {},
          "output_type": "execute_result"
        }
      ],
      "source": [
        "pd.read_sql(\"\"\"\n",
        "    SELECT\n",
        "            ip_address,\n",
        "            unix_timestamp,\n",
        "            DATE(unix_timestamp, 'unixepoch') AS date,\n",
        "            strftime('%w', unix_timestamp, 'unixepoch') AS day_of_week\n",
        "    FROM web_logs\n",
        "\"\"\", conn)"
      ]
    },
    {
      "cell_type": "code",
      "execution_count": null,
      "metadata": {
        "id": "KJxtn8vdvSYT",
        "outputId": "3ed27360-71c1-4a7e-f193-ca1cd87193d7"
      },
      "outputs": [
        {
          "data": {
            "text/plain": [
              "[(3, 0, 0, 'SCAN web_logs USING COVERING INDEX ts_ip_idx')]"
            ]
          },
          "execution_count": 10,
          "metadata": {},
          "output_type": "execute_result"
        }
      ],
      "source": [
        "sql = \"\"\"\n",
        "    EXPLAIN QUERY PLAN\n",
        "    SELECT\n",
        "            ip_address,\n",
        "            unix_timestamp,\n",
        "            DATE(unix_timestamp, 'unixepoch') AS date\n",
        "    FROM web_logs\n",
        "    WHERE date = '2024-09-02'\n",
        "    LIMIT 5\n",
        "\"\"\"\n",
        "conn.execute(sql).fetchall()"
      ]
    },
    {
      "cell_type": "code",
      "execution_count": null,
      "metadata": {
        "id": "BPrbj--yvSYU"
      },
      "outputs": [],
      "source": [
        "import time"
      ]
    },
    {
      "cell_type": "code",
      "execution_count": null,
      "metadata": {
        "id": "ZsvnHVR6vSYU",
        "outputId": "b3b28419-d52f-4c1d-9c54-13173af3b8e5"
      },
      "outputs": [
        {
          "data": {
            "text/html": [
              "<div>\n",
              "<style scoped>\n",
              "    .dataframe tbody tr th:only-of-type {\n",
              "        vertical-align: middle;\n",
              "    }\n",
              "\n",
              "    .dataframe tbody tr th {\n",
              "        vertical-align: top;\n",
              "    }\n",
              "\n",
              "    .dataframe thead th {\n",
              "        text-align: right;\n",
              "    }\n",
              "</style>\n",
              "<table border=\"1\" class=\"dataframe\">\n",
              "  <thead>\n",
              "    <tr style=\"text-align: right;\">\n",
              "      <th></th>\n",
              "      <th>rowid</th>\n",
              "      <th>ip_address</th>\n",
              "      <th>unix_timestamp</th>\n",
              "      <th>requested_page</th>\n",
              "    </tr>\n",
              "  </thead>\n",
              "  <tbody>\n",
              "    <tr>\n",
              "      <th>0</th>\n",
              "      <td>1</td>\n",
              "      <td>67.21.186.204</td>\n",
              "      <td>1724976113</td>\n",
              "      <td>/backend_api/get_product_name/2102cfe7-117f-4a...</td>\n",
              "    </tr>\n",
              "    <tr>\n",
              "      <th>1</th>\n",
              "      <td>2</td>\n",
              "      <td>67.21.186.204</td>\n",
              "      <td>1724976114</td>\n",
              "      <td>/backend_api/get_product_name/2102cfe7-117f-4a...</td>\n",
              "    </tr>\n",
              "    <tr>\n",
              "      <th>2</th>\n",
              "      <td>3</td>\n",
              "      <td>67.21.186.204</td>\n",
              "      <td>1724976114</td>\n",
              "      <td>/backend_api/get_product_name/2102cfe7-117f-4a...</td>\n",
              "    </tr>\n",
              "    <tr>\n",
              "      <th>3</th>\n",
              "      <td>4</td>\n",
              "      <td>67.21.186.204</td>\n",
              "      <td>1724976115</td>\n",
              "      <td>/backend_api/get_product_name/2102cfe7-117f-4a...</td>\n",
              "    </tr>\n",
              "    <tr>\n",
              "      <th>4</th>\n",
              "      <td>5</td>\n",
              "      <td>67.21.186.204</td>\n",
              "      <td>1724976115</td>\n",
              "      <td>/backend_api/get_product_name/2102cfe7-117f-4a...</td>\n",
              "    </tr>\n",
              "    <tr>\n",
              "      <th>5</th>\n",
              "      <td>6</td>\n",
              "      <td>67.21.186.204</td>\n",
              "      <td>1724976116</td>\n",
              "      <td>/backend_api/get_product_name/2102cfe7-117f-4a...</td>\n",
              "    </tr>\n",
              "    <tr>\n",
              "      <th>6</th>\n",
              "      <td>7</td>\n",
              "      <td>67.21.186.204</td>\n",
              "      <td>1724976116</td>\n",
              "      <td>/backend_api/get_product_name/2102cfe7-117f-4a...</td>\n",
              "    </tr>\n",
              "    <tr>\n",
              "      <th>7</th>\n",
              "      <td>8</td>\n",
              "      <td>67.21.186.204</td>\n",
              "      <td>1724976117</td>\n",
              "      <td>/backend_api/get_product_name/2102cfe7-117f-4a...</td>\n",
              "    </tr>\n",
              "    <tr>\n",
              "      <th>8</th>\n",
              "      <td>9</td>\n",
              "      <td>67.21.186.204</td>\n",
              "      <td>1724976117</td>\n",
              "      <td>/backend_api/get_product_name/2102cfe7-117f-4a...</td>\n",
              "    </tr>\n",
              "    <tr>\n",
              "      <th>9</th>\n",
              "      <td>10</td>\n",
              "      <td>67.21.186.204</td>\n",
              "      <td>1724976117</td>\n",
              "      <td>/backend_api/get_product_name/2102cfe7-117f-4a...</td>\n",
              "    </tr>\n",
              "  </tbody>\n",
              "</table>\n",
              "</div>"
            ],
            "text/plain": [
              "   rowid     ip_address  unix_timestamp  \\\n",
              "0      1  67.21.186.204      1724976113   \n",
              "1      2  67.21.186.204      1724976114   \n",
              "2      3  67.21.186.204      1724976114   \n",
              "3      4  67.21.186.204      1724976115   \n",
              "4      5  67.21.186.204      1724976115   \n",
              "5      6  67.21.186.204      1724976116   \n",
              "6      7  67.21.186.204      1724976116   \n",
              "7      8  67.21.186.204      1724976117   \n",
              "8      9  67.21.186.204      1724976117   \n",
              "9     10  67.21.186.204      1724976117   \n",
              "\n",
              "                                      requested_page  \n",
              "0  /backend_api/get_product_name/2102cfe7-117f-4a...  \n",
              "1  /backend_api/get_product_name/2102cfe7-117f-4a...  \n",
              "2  /backend_api/get_product_name/2102cfe7-117f-4a...  \n",
              "3  /backend_api/get_product_name/2102cfe7-117f-4a...  \n",
              "4  /backend_api/get_product_name/2102cfe7-117f-4a...  \n",
              "5  /backend_api/get_product_name/2102cfe7-117f-4a...  \n",
              "6  /backend_api/get_product_name/2102cfe7-117f-4a...  \n",
              "7  /backend_api/get_product_name/2102cfe7-117f-4a...  \n",
              "8  /backend_api/get_product_name/2102cfe7-117f-4a...  \n",
              "9  /backend_api/get_product_name/2102cfe7-117f-4a...  "
            ]
          },
          "execution_count": 12,
          "metadata": {},
          "output_type": "execute_result"
        }
      ],
      "source": [
        "pd.read_sql('select rowid, * from web_logs limit 10;', conn)"
      ]
    },
    {
      "cell_type": "code",
      "execution_count": null,
      "metadata": {
        "id": "L1KmkRzHvSYU"
      },
      "outputs": [],
      "source": [
        "conn.execute(\"\"\"\n",
        "    CREATE VIEW v AS\n",
        "    SELECT\n",
        "            ip_address,\n",
        "            COUNT(DISTINCT unix_timestamp) AS ct\n",
        "    FROM web_logs\n",
        "    GROUP BY ip_address\n",
        "    ORDER BY ct DESC\n",
        "    LIMIT 10\n",
        "\"\"\");"
      ]
    },
    {
      "cell_type": "code",
      "execution_count": null,
      "metadata": {
        "id": "tVhi1Nj7vSYU",
        "outputId": "6dd75439-1d90-400c-b526-2a2fcbc10d9b"
      },
      "outputs": [
        {
          "data": {
            "text/html": [
              "<div>\n",
              "<style scoped>\n",
              "    .dataframe tbody tr th:only-of-type {\n",
              "        vertical-align: middle;\n",
              "    }\n",
              "\n",
              "    .dataframe tbody tr th {\n",
              "        vertical-align: top;\n",
              "    }\n",
              "\n",
              "    .dataframe thead th {\n",
              "        text-align: right;\n",
              "    }\n",
              "</style>\n",
              "<table border=\"1\" class=\"dataframe\">\n",
              "  <thead>\n",
              "    <tr style=\"text-align: right;\">\n",
              "      <th></th>\n",
              "      <th>ip_address</th>\n",
              "      <th>ct</th>\n",
              "    </tr>\n",
              "  </thead>\n",
              "  <tbody>\n",
              "    <tr>\n",
              "      <th>0</th>\n",
              "      <td>24.33.229.204</td>\n",
              "      <td>40368</td>\n",
              "    </tr>\n",
              "    <tr>\n",
              "      <th>1</th>\n",
              "      <td>130.127.49.251</td>\n",
              "      <td>18687</td>\n",
              "    </tr>\n",
              "    <tr>\n",
              "      <th>2</th>\n",
              "      <td>72.205.125.88</td>\n",
              "      <td>9650</td>\n",
              "    </tr>\n",
              "    <tr>\n",
              "      <th>3</th>\n",
              "      <td>92.40.168.143</td>\n",
              "      <td>4432</td>\n",
              "    </tr>\n",
              "    <tr>\n",
              "      <th>4</th>\n",
              "      <td>128.122.76.33</td>\n",
              "      <td>2733</td>\n",
              "    </tr>\n",
              "    <tr>\n",
              "      <th>5</th>\n",
              "      <td>223.123.89.122</td>\n",
              "      <td>2554</td>\n",
              "    </tr>\n",
              "    <tr>\n",
              "      <th>6</th>\n",
              "      <td>92.40.168.144</td>\n",
              "      <td>2503</td>\n",
              "    </tr>\n",
              "    <tr>\n",
              "      <th>7</th>\n",
              "      <td>174.106.118.17</td>\n",
              "      <td>1857</td>\n",
              "    </tr>\n",
              "    <tr>\n",
              "      <th>8</th>\n",
              "      <td>92.40.168.231</td>\n",
              "      <td>1520</td>\n",
              "    </tr>\n",
              "    <tr>\n",
              "      <th>9</th>\n",
              "      <td>92.40.168.145</td>\n",
              "      <td>1517</td>\n",
              "    </tr>\n",
              "  </tbody>\n",
              "</table>\n",
              "</div>"
            ],
            "text/plain": [
              "       ip_address     ct\n",
              "0   24.33.229.204  40368\n",
              "1  130.127.49.251  18687\n",
              "2   72.205.125.88   9650\n",
              "3   92.40.168.143   4432\n",
              "4   128.122.76.33   2733\n",
              "5  223.123.89.122   2554\n",
              "6   92.40.168.144   2503\n",
              "7  174.106.118.17   1857\n",
              "8   92.40.168.231   1520\n",
              "9   92.40.168.145   1517"
            ]
          },
          "execution_count": 52,
          "metadata": {},
          "output_type": "execute_result"
        }
      ],
      "source": [
        "pd.read_sql('select * from v;', conn)"
      ]
    },
    {
      "cell_type": "code",
      "execution_count": null,
      "metadata": {
        "id": "nvo9qGRfvSYU",
        "outputId": "09972da8-2402-428c-a3ec-df566f548e5f"
      },
      "outputs": [
        {
          "data": {
            "text/html": [
              "<div>\n",
              "<style scoped>\n",
              "    .dataframe tbody tr th:only-of-type {\n",
              "        vertical-align: middle;\n",
              "    }\n",
              "\n",
              "    .dataframe tbody tr th {\n",
              "        vertical-align: top;\n",
              "    }\n",
              "\n",
              "    .dataframe thead th {\n",
              "        text-align: right;\n",
              "    }\n",
              "</style>\n",
              "<table border=\"1\" class=\"dataframe\">\n",
              "  <thead>\n",
              "    <tr style=\"text-align: right;\">\n",
              "      <th></th>\n",
              "      <th>requested_page</th>\n",
              "    </tr>\n",
              "  </thead>\n",
              "  <tbody>\n",
              "    <tr>\n",
              "      <th>0</th>\n",
              "      <td>/site/post/getting-started/</td>\n",
              "    </tr>\n",
              "    <tr>\n",
              "      <th>1</th>\n",
              "      <td>/site/webfonts/source-code-pro/main.css</td>\n",
              "    </tr>\n",
              "    <tr>\n",
              "      <th>2</th>\n",
              "      <td>/site/webfonts/ptserif/main.css</td>\n",
              "    </tr>\n",
              "    <tr>\n",
              "      <th>3</th>\n",
              "      <td>/site/css/style.css</td>\n",
              "    </tr>\n",
              "    <tr>\n",
              "      <th>4</th>\n",
              "      <td>/favicon.ico</td>\n",
              "    </tr>\n",
              "    <tr>\n",
              "      <th>...</th>\n",
              "      <td>...</td>\n",
              "    </tr>\n",
              "    <tr>\n",
              "      <th>3661</th>\n",
              "      <td>/backend_api/get_hostname_from_ip/1498aaab-2f8...</td>\n",
              "    </tr>\n",
              "    <tr>\n",
              "      <th>3662</th>\n",
              "      <td>/backend_api/get_hostname_from_ip/1498aaab-2f8...</td>\n",
              "    </tr>\n",
              "    <tr>\n",
              "      <th>3663</th>\n",
              "      <td>/backend_api/get_hostname_from_ip/1498aaab-2f8...</td>\n",
              "    </tr>\n",
              "    <tr>\n",
              "      <th>3664</th>\n",
              "      <td>/backend_api/get_hostname_from_ip/1498aaab-2f8...</td>\n",
              "    </tr>\n",
              "    <tr>\n",
              "      <th>3665</th>\n",
              "      <td>/backend_api/get_hostname_from_ip/1498aaab-2f8...</td>\n",
              "    </tr>\n",
              "  </tbody>\n",
              "</table>\n",
              "<p>3666 rows × 1 columns</p>\n",
              "</div>"
            ],
            "text/plain": [
              "                                         requested_page\n",
              "0                           /site/post/getting-started/\n",
              "1               /site/webfonts/source-code-pro/main.css\n",
              "2                       /site/webfonts/ptserif/main.css\n",
              "3                                   /site/css/style.css\n",
              "4                                          /favicon.ico\n",
              "...                                                 ...\n",
              "3661  /backend_api/get_hostname_from_ip/1498aaab-2f8...\n",
              "3662  /backend_api/get_hostname_from_ip/1498aaab-2f8...\n",
              "3663  /backend_api/get_hostname_from_ip/1498aaab-2f8...\n",
              "3664  /backend_api/get_hostname_from_ip/1498aaab-2f8...\n",
              "3665  /backend_api/get_hostname_from_ip/1498aaab-2f8...\n",
              "\n",
              "[3666 rows x 1 columns]"
            ]
          },
          "execution_count": 57,
          "metadata": {},
          "output_type": "execute_result"
        }
      ],
      "source": [
        "sql = \"\"\"\n",
        "    SELECT\n",
        "        DISTINCT requested_page\n",
        "    FROM web_logs\n",
        "    JOIN v ON (web_logs.ip_address = v.ip_address)\n",
        "    ;\n",
        "\n",
        "\"\"\"\n",
        "pd.read_sql(sql, conn)"
      ]
    },
    {
      "cell_type": "code",
      "execution_count": null,
      "metadata": {
        "id": "93hxzYbovSYU",
        "outputId": "e5debd19-2b98-498d-b668-b8c9a20b3eb1"
      },
      "outputs": [
        {
          "data": {
            "text/plain": [
              "[(8, 0, 0, 'SCAN t'),\n",
              " (10, 0, 0, 'SEARCH web_logs USING INDEX ip_address_ix (ip_address=?)'),\n",
              " (16, 0, 0, 'USE TEMP B-TREE FOR GROUP BY')]"
            ]
          },
          "execution_count": 45,
          "metadata": {},
          "output_type": "execute_result"
        }
      ],
      "source": [
        "conn.execute(f'EXPLAIN QUERY PLAN {sql}').fetchall()\n"
      ]
    },
    {
      "cell_type": "code",
      "execution_count": null,
      "metadata": {
        "id": "0_pGeIGAvSYU",
        "outputId": "5d57fa31-426e-4fc8-f92f-7b18b1128cb1"
      },
      "outputs": [
        {
          "data": {
            "text/plain": [
              "[(2, 0, 0, 'CO-ROUTINE v'),\n",
              " (11, 2, 0, 'SCAN web_logs USING INDEX ip_address_ix'),\n",
              " (49, 2, 0, 'USE TEMP B-TREE FOR count(DISTINCT)'),\n",
              " (52, 2, 0, 'USE TEMP B-TREE FOR ORDER BY'),\n",
              " (65, 0, 0, 'SCAN v'),\n",
              " (68, 0, 0, 'SEARCH web_logs USING INDEX ip_address_ix (ip_address=?)'),\n",
              " (74, 0, 0, 'USE TEMP B-TREE FOR GROUP BY')]"
            ]
          },
          "execution_count": 49,
          "metadata": {},
          "output_type": "execute_result"
        }
      ],
      "source": [
        "conn.execute(f'EXPLAIN QUERY PLAN {sql}').fetchall()\n"
      ]
    },
    {
      "cell_type": "code",
      "execution_count": null,
      "metadata": {
        "id": "_ueALiWLvSYU",
        "outputId": "9bc5f838-4e1c-426a-b7b7-e9e4d1441700"
      },
      "outputs": [
        {
          "data": {
            "text/plain": [
              "[(2, 0, 0, 'CO-ROUTINE subquery'),\n",
              " (11, 2, 0, 'SCAN web_logs USING INDEX ip_address_ix'),\n",
              " (49, 2, 0, 'USE TEMP B-TREE FOR count(DISTINCT)'),\n",
              " (52, 2, 0, 'USE TEMP B-TREE FOR ORDER BY'),\n",
              " (65, 0, 0, 'SCAN subquery'),\n",
              " (68, 0, 0, 'SEARCH web_logs USING INDEX ip_address_ix (ip_address=?)'),\n",
              " (74, 0, 0, 'USE TEMP B-TREE FOR GROUP BY')]"
            ]
          },
          "execution_count": 51,
          "metadata": {},
          "output_type": "execute_result"
        }
      ],
      "source": [
        "sql = \"\"\"\n",
        "SELECT\n",
        "    requested_page\n",
        "FROM web_logs\n",
        "JOIN (\n",
        "    SELECT\n",
        "        ip_address,\n",
        "        COUNT(DISTINCT unix_timestamp) AS ct\n",
        "    FROM web_logs\n",
        "    GROUP BY ip_address\n",
        "    ORDER BY ct DESC\n",
        "    LIMIT 10\n",
        ") AS subquery ON web_logs.ip_address = subquery.ip_address\n",
        "GROUP BY requested_page;\n",
        "\"\"\"\n",
        "conn.execute(f'EXPLAIN QUERY PLAN {sql}').fetchall()"
      ]
    },
    {
      "cell_type": "code",
      "execution_count": null,
      "metadata": {
        "id": "iKCHNfiNvSYU",
        "outputId": "58b5ea10-a232-433f-866f-09b5c660a415"
      },
      "outputs": [
        {
          "name": "stdout",
          "output_type": "stream",
          "text": [
            "5.142711639404297\n"
          ]
        },
        {
          "data": {
            "text/html": [
              "<div>\n",
              "<style scoped>\n",
              "    .dataframe tbody tr th:only-of-type {\n",
              "        vertical-align: middle;\n",
              "    }\n",
              "\n",
              "    .dataframe tbody tr th {\n",
              "        vertical-align: top;\n",
              "    }\n",
              "\n",
              "    .dataframe thead th {\n",
              "        text-align: right;\n",
              "    }\n",
              "</style>\n",
              "<table border=\"1\" class=\"dataframe\">\n",
              "  <thead>\n",
              "    <tr style=\"text-align: right;\">\n",
              "      <th></th>\n",
              "      <th>day_of_week</th>\n",
              "      <th>unique_visitors</th>\n",
              "    </tr>\n",
              "  </thead>\n",
              "  <tbody>\n",
              "    <tr>\n",
              "      <th>0</th>\n",
              "      <td>3</td>\n",
              "      <td>707</td>\n",
              "    </tr>\n",
              "    <tr>\n",
              "      <th>1</th>\n",
              "      <td>5</td>\n",
              "      <td>670</td>\n",
              "    </tr>\n",
              "    <tr>\n",
              "      <th>2</th>\n",
              "      <td>2</td>\n",
              "      <td>655</td>\n",
              "    </tr>\n",
              "    <tr>\n",
              "      <th>3</th>\n",
              "      <td>4</td>\n",
              "      <td>646</td>\n",
              "    </tr>\n",
              "    <tr>\n",
              "      <th>4</th>\n",
              "      <td>6</td>\n",
              "      <td>567</td>\n",
              "    </tr>\n",
              "    <tr>\n",
              "      <th>5</th>\n",
              "      <td>1</td>\n",
              "      <td>560</td>\n",
              "    </tr>\n",
              "    <tr>\n",
              "      <th>6</th>\n",
              "      <td>0</td>\n",
              "      <td>507</td>\n",
              "    </tr>\n",
              "  </tbody>\n",
              "</table>\n",
              "</div>"
            ],
            "text/plain": [
              "  day_of_week  unique_visitors\n",
              "0           3              707\n",
              "1           5              670\n",
              "2           2              655\n",
              "3           4              646\n",
              "4           6              567\n",
              "5           1              560\n",
              "6           0              507"
            ]
          },
          "execution_count": 14,
          "metadata": {},
          "output_type": "execute_result"
        }
      ],
      "source": [
        "# Count the number of unique IP addresses that visited the website on each day\n",
        "start_ts = time.time()\n",
        "for _ in range(10):\n",
        "    df = pd.read_sql(\"\"\"\n",
        "        SELECT\n",
        "                strftime('%w', unix_timestamp, 'unixepoch') AS day_of_week,\n",
        "                COUNT(DISTINCT ip_address) AS unique_visitors\n",
        "        FROM web_logs\n",
        "        GROUP BY day_of_week\n",
        "        ORDER BY unique_visitors DESC\n",
        "    \"\"\", conn)\n",
        "end_ts = time.time()\n",
        "print(end_ts - start_ts)\n",
        "df"
      ]
    },
    {
      "cell_type": "code",
      "execution_count": null,
      "metadata": {
        "id": "b-xtMLthvSYV",
        "outputId": "c45e72f5-bdf2-41d1-c6d2-5463bb8e1057"
      },
      "outputs": [
        {
          "data": {
            "text/plain": [
              "[(7, 0, 0, 'SCAN web_logs USING COVERING INDEX ts_ip_idx'),\n",
              " (9, 0, 0, 'USE TEMP B-TREE FOR GROUP BY'),\n",
              " (51, 0, 0, 'USE TEMP B-TREE FOR count(DISTINCT)'),\n",
              " (54, 0, 0, 'USE TEMP B-TREE FOR ORDER BY')]"
            ]
          },
          "execution_count": 15,
          "metadata": {},
          "output_type": "execute_result"
        }
      ],
      "source": [
        "conn.execute(\"\"\"\n",
        "EXPLAIN QUERY PLAN\n",
        "        SELECT\n",
        "                strftime('%w', unix_timestamp, 'unixepoch') AS day_of_week,\n",
        "                COUNT(DISTINCT ip_address) AS unique_visitors\n",
        "        FROM web_logs\n",
        "        GROUP BY day_of_week\n",
        "        ORDER BY unique_visitors DESC;\n",
        "             \"\"\").fetchall()\n"
      ]
    },
    {
      "cell_type": "code",
      "execution_count": null,
      "metadata": {
        "id": "T2sUMPBJvSYV",
        "outputId": "6eac16c6-2fe6-41e9-e3cf-523163664260"
      },
      "outputs": [
        {
          "ename": "OperationalError",
          "evalue": "index ts_ip_idx already exists",
          "output_type": "error",
          "traceback": [
            "\u001b[0;31m---------------------------------------------------------------------------\u001b[0m",
            "\u001b[0;31mOperationalError\u001b[0m                          Traceback (most recent call last)",
            "Cell \u001b[0;32mIn[16], line 2\u001b[0m\n\u001b[1;32m      1\u001b[0m \u001b[38;5;66;03m# Create an index on the ip_address column\u001b[39;00m\n\u001b[0;32m----> 2\u001b[0m \u001b[43mconn\u001b[49m\u001b[38;5;241;43m.\u001b[39;49m\u001b[43mexecute\u001b[49m\u001b[43m(\u001b[49m\u001b[38;5;124;43m'\u001b[39;49m\u001b[38;5;124;43mCREATE INDEX ts_ip_idx ON web_logs(unix_timestamp, ip_address);\u001b[39;49m\u001b[38;5;124;43m'\u001b[39;49m\u001b[43m)\u001b[49m\n",
            "\u001b[0;31mOperationalError\u001b[0m: index ts_ip_idx already exists"
          ]
        }
      ],
      "source": [
        "# Create an index on the ip_address column\n",
        "conn.execute('CREATE INDEX ts_ip_idx ON web_logs(unix_timestamp, ip_address);')"
      ]
    },
    {
      "cell_type": "code",
      "execution_count": null,
      "metadata": {
        "id": "vPV0AiZMvSYV",
        "outputId": "0eed86a1-d87b-4933-964a-45cd8e624c77"
      },
      "outputs": [
        {
          "data": {
            "image/png": "[encoded data removed]",
            "text/plain": [
              "<Figure size 640x480 with 1 Axes>"
            ]
          },
          "metadata": {},
          "output_type": "display_data"
        }
      ],
      "source": [
        "# make a bar chart out of df, which shows number of visitors per day of the week\n",
        "import matplotlib.pyplot as plt\n",
        "\n",
        "\n",
        "df.plot(kind='bar', x='day_of_week', y='unique_visitors')\n",
        "\n",
        "# Restrict the y axis range to 500 - 800\n",
        "plt.ylim(500, 800)\n",
        "\n",
        "plt.show()\n"
      ]
    },
    {
      "cell_type": "code",
      "execution_count": null,
      "metadata": {
        "id": "BbHvJ5YZvSYV",
        "outputId": "a82a6c70-5fe8-4cac-8661-6191f52a9ab7"
      },
      "outputs": [
        {
          "data": {
            "text/plain": [
              "[(7, 0, 0, 'SCAN web_logs'),\n",
              " (9, 0, 0, 'USE TEMP B-TREE FOR GROUP BY'),\n",
              " (52, 0, 0, 'USE TEMP B-TREE FOR count(DISTINCT)'),\n",
              " (55, 0, 0, 'USE TEMP B-TREE FOR ORDER BY')]"
            ]
          },
          "execution_count": 15,
          "metadata": {},
          "output_type": "execute_result"
        }
      ],
      "source": [
        "sql = \"\"\"\n",
        "    EXPLAIN QUERY PLAN\n",
        "    SELECT\n",
        "            DATE(unix_timestamp, 'unixepoch') AS date,\n",
        "            COUNT(DISTINCT ip_address) AS unique_visitors\n",
        "    FROM web_logs\n",
        "    GROUP BY date\n",
        "    HAVING unique_visitors > 300\n",
        "    ORDER BY unique_visitors DESC\n",
        "\"\"\"\n",
        "conn.execute(sql).fetchall()"
      ]
    },
    {
      "cell_type": "markdown",
      "metadata": {
        "id": "R0I6OGRJvSYV"
      },
      "source": [
        "## What they are doing on the site"
      ]
    },
    {
      "cell_type": "code",
      "execution_count": null,
      "metadata": {
        "id": "sKE_u_BFvSYV"
      },
      "outputs": [],
      "source": []
    },
    {
      "cell_type": "markdown",
      "metadata": {
        "id": "rTJnRP5FvSYV"
      },
      "source": [
        "# Visualization"
      ]
    },
    {
      "cell_type": "markdown",
      "metadata": {
        "id": "ZrZQ0bDSvSYV"
      },
      "source": []
    }
  ],
  "metadata": {
    "kernelspec": {
      "display_name": "class_env",
      "language": "python",
      "name": "python3"
    },
    "language_info": {
      "codemirror_mode": {
        "name": "ipython",
        "version": 3
      },
      "file_extension": ".py",
      "mimetype": "text/x-python",
      "name": "python",
      "nbconvert_exporter": "python",
      "pygments_lexer": "ipython3",
      "version": "3.12.7"
    },
    "colab": {
      "provenance": [],
      "include_colab_link": true
    }
  },
  "nbformat": 4,
  "nbformat_minor": 0
}